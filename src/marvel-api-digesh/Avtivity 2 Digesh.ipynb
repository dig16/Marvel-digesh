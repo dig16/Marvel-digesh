{
 "cells": [
  {
   "cell_type": "code",
   "execution_count": 2,
   "id": "b7d44c71",
   "metadata": {},
   "outputs": [],
   "source": [
    "import requests\n",
    "import json"
   ]
  },
  {
   "cell_type": "code",
   "execution_count": 10,
   "id": "cf12e4b7",
   "metadata": {},
   "outputs": [],
   "source": [
    "import pandas as pd"
   ]
  },
  {
   "cell_type": "code",
   "execution_count": 3,
   "id": "f7414121",
   "metadata": {},
   "outputs": [],
   "source": [
    "import hashlib\n",
    "from time import time "
   ]
  },
  {
   "cell_type": "code",
   "execution_count": 4,
   "id": "65703269",
   "metadata": {},
   "outputs": [],
   "source": [
    "public = \"0b0fe70a971893ef6d1965a79d1189dd\"\n",
    "private = \"2f5a765fae583ee37883b0b292b0f1c4d100e017\"\n",
    "address= \"http://gateway.marvel.com/v1/public/characters\""
   ]
  },
  {
   "cell_type": "code",
   "execution_count": 6,
   "id": "9cfb1515",
   "metadata": {},
   "outputs": [],
   "source": [
    "ts= str(int(time()))\n",
    "hash = ts + private + public\n",
    "hash_result = hashlib.md5(hash.encode())"
   ]
  },
  {
   "cell_type": "code",
   "execution_count": 7,
   "id": "a54dffa3",
   "metadata": {},
   "outputs": [
    {
     "name": "stdout",
     "output_type": "stream",
     "text": [
      "0b0fe70a971893ef6d1965a79d1189dd\n",
      "2f5a765fae583ee37883b0b292b0f1c4d100e017\n"
     ]
    }
   ],
   "source": [
    "api_url = \"http://gateway.marvel.com/v1/public/\"\n",
    "public_key = input()\n",
    "private_key = input()\n",
    "resource = \"characters\"\n",
    "limit = 100\n",
    "ts = str(int(time()))\n",
    "\n",
    "hash_parameter = ts+private_key+public_key\n",
    "\n",
    "hash_result = hashlib.md5(hash_parameter.encode())\n",
    "\n",
    "address = api_url + resource\n",
    "\n",
    "parameter = {\"apikey\": '0b0fe70a971893ef6d1965a79d1189dd',\n",
    "\n",
    "            \"ts\": int(time()),\n",
    "\n",
    "            \"hash\": hash_result.hexdigest(),\n",
    "\n",
    "            \"limit\": limit}"
   ]
  },
  {
   "cell_type": "code",
   "execution_count": 11,
   "id": "cd0e4b6f",
   "metadata": {},
   "outputs": [],
   "source": [
    "data_frame = pd.DataFrame()\n",
    "import string\n",
    "\n",
    "start_char = list(string.ascii_lowercase + string.digits)\n",
    "\n",
    "start_char.remove('0')\n",
    "\n",
    "for letter in start_char :\n",
    "\n",
    "    parameter[\"nameStartsWith\"] = letter\n",
    "\n",
    "    response = requests.get(address, parameter)\n",
    "\n",
    "    temp_df = pd.json_normalize(response.json(), record_path=['data', 'results'])\n",
    "\n",
    "    data_frame = pd.concat([data_frame, temp_df])\n",
    "\n",
    "    del parameter[\"nameStartsWith\"]"
   ]
  },
  {
   "cell_type": "code",
   "execution_count": null,
   "id": "02416050",
   "metadata": {},
   "outputs": [],
   "source": []
  },
  {
   "cell_type": "code",
   "execution_count": null,
   "id": "f780cd64",
   "metadata": {},
   "outputs": [],
   "source": []
  },
  {
   "cell_type": "code",
   "execution_count": null,
   "id": "1145373e",
   "metadata": {},
   "outputs": [],
   "source": []
  }
 ],
 "metadata": {
  "kernelspec": {
   "display_name": "Python 3 (ipykernel)",
   "language": "python",
   "name": "python3"
  },
  "language_info": {
   "codemirror_mode": {
    "name": "ipython",
    "version": 3
   },
   "file_extension": ".py",
   "mimetype": "text/x-python",
   "name": "python",
   "nbconvert_exporter": "python",
   "pygments_lexer": "ipython3",
   "version": "3.9.12"
  }
 },
 "nbformat": 4,
 "nbformat_minor": 5
}
